{
 "cells": [
  {
   "attachments": {},
   "cell_type": "markdown",
   "metadata": {},
   "source": [
    "# Environment Set up"
   ]
  },
  {
   "cell_type": "code",
   "execution_count": 1,
   "metadata": {},
   "outputs": [],
   "source": [
    "%load_ext autoreload\n",
    "%autoreload 2\n",
    "\n",
    "import sys \n",
    "sys.path.append('/..')\n",
    "sys.path.append('../..')\n",
    "sys.path.append('..')\n",
    "\n",
    "import json\n",
    "import os\n",
    "from dotenv import load_dotenv, find_dotenv\n",
    "import openai\n",
    "\n",
    "\n",
    "# Load Environment Variables\n",
    "_ = load_dotenv(find_dotenv())\n",
    "openai.api_key = os.getenv(\"OPENAI_API_KEY\")"
   ]
  },
  {
   "attachments": {},
   "cell_type": "markdown",
   "metadata": {},
   "source": [
    "# Functions"
   ]
  },
  {
   "cell_type": "code",
   "execution_count": 57,
   "metadata": {},
   "outputs": [],
   "source": [
    "def get_completion(prompt, model=\"gpt-3.5-turbo\", temperature=0):\n",
    "    messages = [{\"role\": \"user\", \"content\": prompt}]\n",
    "    response = openai.ChatCompletion.create(\n",
    "        model=model,\n",
    "        messages=messages,\n",
    "        temperature=temperature,  # this is the degree of randomness of the model's output\n",
    "    )\n",
    "    return response.choices[0].message[\"content\"]"
   ]
  },
  {
   "attachments": {},
   "cell_type": "markdown",
   "metadata": {},
   "source": [
    "# Recipes"
   ]
  },
  {
   "cell_type": "code",
   "execution_count": 68,
   "metadata": {},
   "outputs": [],
   "source": [
    "recipe_name = \"pasta con le sarde\"\n",
    "n_people = 4 \n",
    "delimiter = \"####\"\n",
    "\n",
    "prompt = f\"\"\"\n",
    "Per un sito di ricette ho bisogno di ricetta {recipe_name}.\n",
    "\n",
    "Elabora la tua ricetta, poi restituisci il risultati in formato Json, \n",
    "come nell'esempio delimitato tra quattro hashtag.\n",
    "\n",
    "{delimiter}\n",
    "procedimento: \"1. Portare a ebollizione una pentola. Nel frattempo\" , \n",
    "ingredienti: [spaghetti: g: 320, guanciale: g:150] .\n",
    "{delimiter}\"\n",
    "\n",
    "\n",
    "La ricetta deve essere per {n_people} persone.\n",
    "\"\"\"\n",
    "\n",
    "\n"
   ]
  },
  {
   "cell_type": "code",
   "execution_count": 69,
   "metadata": {},
   "outputs": [],
   "source": [
    "res = get_completion(prompt)"
   ]
  },
  {
   "cell_type": "code",
   "execution_count": 70,
   "metadata": {},
   "outputs": [
    {
     "name": "stdout",
     "output_type": "stream",
     "text": [
      "('{\\n'\n",
      " '  \"nome\": \"Pasta con le sarde\",\\n'\n",
      " '  \"porzioni\": 4,\\n'\n",
      " '  \"ingredienti\": [\\n'\n",
      " '    {\\n'\n",
      " '      \"nome\": \"Spaghetti\",\\n'\n",
      " '      \"quantita\": \"320g\"\\n'\n",
      " '    },\\n'\n",
      " '    {\\n'\n",
      " '      \"nome\": \"Sarde fresche\",\\n'\n",
      " '      \"quantita\": \"500g\"\\n'\n",
      " '    },\\n'\n",
      " '    {\\n'\n",
      " '      \"nome\": \"Finocchietto selvatico\",\\n'\n",
      " '      \"quantita\": \"1 mazzetto\"\\n'\n",
      " '    },\\n'\n",
      " '    {\\n'\n",
      " '      \"nome\": \"Cipolla\",\\n'\n",
      " '      \"quantita\": \"1\"\\n'\n",
      " '    },\\n'\n",
      " '    {\\n'\n",
      " '      \"nome\": \"Uvetta\",\\n'\n",
      " '      \"quantita\": \"50g\"\\n'\n",
      " '    },\\n'\n",
      " '    {\\n'\n",
      " '      \"nome\": \"Pinoli\",\\n'\n",
      " '      \"quantita\": \"50g\"\\n'\n",
      " '    },\\n'\n",
      " '    {\\n'\n",
      " '      \"nome\": \"Olio extravergine di oliva\",\\n'\n",
      " '      \"quantita\": \"qb\"\\n'\n",
      " '    },\\n'\n",
      " '    {\\n'\n",
      " '      \"nome\": \"Sale\",\\n'\n",
      " '      \"quantita\": \"qb\"\\n'\n",
      " '    },\\n'\n",
      " '    {\\n'\n",
      " '      \"nome\": \"Pepe nero\",\\n'\n",
      " '      \"quantita\": \"qb\"\\n'\n",
      " '    }\\n'\n",
      " '  ],\\n'\n",
      " '  \"procedimento\": [\\n'\n",
      " '    \"1. Pulire le sarde eliminando la testa, le interiora e la lisca '\n",
      " 'centrale. Tagliarle a pezzetti e metterle da parte.\",\\n'\n",
      " '    \"2. In una padella, far soffriggere la cipolla tritata con un filo '\n",
      " 'd\\'olio. Aggiungere le sarde e farle cuocere per qualche minuto.\",\\n'\n",
      " '    \"3. Aggiungere l\\'uvetta e i pinoli e far cuocere per altri 5 minuti.\",\\n'\n",
      " '    \"4. Nel frattempo, portare a ebollizione una pentola d\\'acqua salata e '\n",
      " 'cuocere gli spaghetti.\",\\n'\n",
      " '    \"5. Aggiungere il finocchietto selvatico alla padella con le sarde e far '\n",
      " 'cuocere per altri 2-3 minuti.\",\\n'\n",
      " '    \"6. Scolare gli spaghetti al dente e aggiungerli alla padella con le '\n",
      " 'sarde. Saltare il tutto per qualche minuto.\",\\n'\n",
      " '    \"7. Servire la pasta con le sarde calda, guarnita con qualche foglia di '\n",
      " 'finocchietto selvatico e una spolverata di pepe nero.\"\\n'\n",
      " '  ]\\n'\n",
      " '}')\n"
     ]
    }
   ],
   "source": [
    "import pprint \n",
    "pprint.pprint(res)\n"
   ]
  },
  {
   "cell_type": "code",
   "execution_count": 61,
   "metadata": {},
   "outputs": [],
   "source": [
    "import json \n",
    "\n",
    "def read_string_to_list(input_string):\n",
    "    if input_string is None:\n",
    "        return None\n",
    "\n",
    "    try:\n",
    "        input_string = input_string.replace(\"'\", \"\\\"\")  # Replace single quotes with double quotes for valid JSON\n",
    "        data = json.loads(input_string)\n",
    "        return data\n",
    "    except json.JSONDecodeError:\n",
    "        print(\"Error: Invalid JSON string\")\n",
    "        return None   \n",
    "    "
   ]
  },
  {
   "cell_type": "code",
   "execution_count": 62,
   "metadata": {},
   "outputs": [
    {
     "name": "stdout",
     "output_type": "stream",
     "text": [
      "Error: Invalid JSON string\n"
     ]
    }
   ],
   "source": [
    "read_string_to_list(res)"
   ]
  },
  {
   "cell_type": "code",
   "execution_count": null,
   "metadata": {},
   "outputs": [],
   "source": []
  }
 ],
 "metadata": {
  "kernelspec": {
   "display_name": "base",
   "language": "python",
   "name": "python3"
  },
  "language_info": {
   "codemirror_mode": {
    "name": "ipython",
    "version": 3
   },
   "file_extension": ".py",
   "mimetype": "text/x-python",
   "name": "python",
   "nbconvert_exporter": "python",
   "pygments_lexer": "ipython3",
   "version": "3.11.4"
  },
  "orig_nbformat": 4
 },
 "nbformat": 4,
 "nbformat_minor": 2
}
