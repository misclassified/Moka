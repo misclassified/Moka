{
 "cells": [
  {
   "attachments": {},
   "cell_type": "markdown",
   "metadata": {},
   "source": [
    "# Environment Set up"
   ]
  },
  {
   "cell_type": "code",
   "execution_count": 20,
   "metadata": {},
   "outputs": [
    {
     "name": "stdout",
     "output_type": "stream",
     "text": [
      "The autoreload extension is already loaded. To reload it, use:\n",
      "  %reload_ext autoreload\n"
     ]
    }
   ],
   "source": [
    "%load_ext autoreload\n",
    "%autoreload 2\n",
    "\n",
    "import sys \n",
    "sys.path.append('/..')\n",
    "sys.path.append('../..')\n",
    "sys.path.append('..')\n",
    "\n",
    "import json\n",
    "import openai\n",
    "import os\n",
    "import time\n",
    "from src.openaifuncs import *\n",
    "from src.prompts import *\n",
    "\n",
    "\n",
    "def get_key(env_file):\n",
    "    with open(env_file) as f:\n",
    "        for line in f:\n",
    "            if line.startswith('OPENAI_API_KEY'):\n",
    "                key = line.split('=')[1].strip()\n",
    "                return key\n",
    "            else:\n",
    "                raise ValueError('OPENAI_API_KEY not found in .env file')\n"
   ]
  },
  {
   "cell_type": "code",
   "execution_count": 13,
   "metadata": {},
   "outputs": [],
   "source": [
    "openai.api_key  = get_key('..\\.env')"
   ]
  },
  {
   "attachments": {},
   "cell_type": "markdown",
   "metadata": {},
   "source": [
    "# One-shot prompting "
   ]
  },
  {
   "cell_type": "code",
   "execution_count": 16,
   "metadata": {},
   "outputs": [],
   "source": [
    "with open('../reference/comm_chart.json', 'r') as fp:\n",
    "        comm_chart = json.load(fp)"
   ]
  },
  {
   "cell_type": "code",
   "execution_count": 18,
   "metadata": {},
   "outputs": [
    {
     "data": {
      "text/plain": [
       "dict_keys(['Persona', 'Tone', 'LanguageType', 'Purpose', 'Channel', 'Language', 'Type'])"
      ]
     },
     "execution_count": 18,
     "metadata": {},
     "output_type": "execute_result"
    }
   ],
   "source": []
  },
  {
   "cell_type": "code",
   "execution_count": 22,
   "metadata": {},
   "outputs": [
    {
     "name": "stdout",
     "output_type": "stream",
     "text": [
      "Select your Channels of Communication ------> {\n",
      "    \"Post1\": \"Partecipa all'evento di innovazione e inclusione AI ospitato da Generali il 19/07 presso l'iconica Generali Tower a Milano. Connettiti con i leader del settore e scopri le applicazioni reali di machine learning e AI generativa.\",\n",
      "    \"Post2\": \"Vieni a scoprire come Generali e Google stanno utilizzando l'AI per creare prodotti inclusivi e responsabili. Partecipa all'evento in persona o da remoto, ma non dimenticare di registrarti!\",\n",
      "    \"Post3\": \"Non perdere l'opportunità di connetterti con i professionisti del settore e scoprire le ultime tendenze in materia di AI. Iscriviti all'evento di Generali il 19/07 a Milano!\"\n",
      "}\n",
      "---------------------------------\n",
      "Facebook ------> {\n",
      "    \"Post1\": \"Partecipa all'evento di innovazione e inclusione AI ospitato da Generali il 19/07 presso l'iconica Generali Tower a City Life, Milano. Connettiti con i leader del settore della scienza dei dati!\",\n",
      "    \"Post2\": \"Scopri le applicazioni reali di machine learning e generative AI presentate dai Data Scientist di Generali e le idee di Calvary Rogers di Google sull'applicazione dell'AI per il bene della società.\",\n",
      "    \"Post3\": \"Registrati ora per partecipare all'evento di persona o da remoto e scopri come costruire prodotti AI inclusivi e responsabili. Non perdere l'opportunità di connetterti con i tuoi pari e i leader del settore!\"\n",
      "}\n",
      "---------------------------------\n",
      "Twitter ------> {\n",
      "    \"Post1\": \"Partecipa all'evento di innovazione e inclusione AI ospitato da Generali il 19/07 presso la Torre Generali a City Life, Milano. Connettiti con i leader del settore della scienza dei dati!\",\n",
      "    \"Post2\": \"Scopri le applicazioni reali di machine learning e generative AI presentate dai Data Scientist di Generali e le idee di Calvary Rogers di Google sull'applicazione dell'AI per il bene della società!\",\n",
      "    \"Post3\": \"Registrati ora per partecipare all'evento di innovazione e inclusione AI di Generali in persona o da remoto! Non perdere l'opportunità di connetterti con i leader del settore della scienza dei dati!\"\n",
      "}\n",
      "---------------------------------\n",
      "Instagram ------> {\n",
      "    \"Post1\": \"Partecipa all'evento di innovazione e inclusione AI ospitato da Generali il 19/07 nella iconica Generali Tower a City Life, Milano. Connettiti con i leader del settore della scienza dei dati!\",\n",
      "    \"Post2\": \"Scopri come Generali e Google stanno applicando l'AI in modo responsabile e inclusivo. Iscriviti all'evento in presenza o online!\",\n",
      "    \"Post3\": \"Non perdere l'opportunità di vedere applicazioni reali di machine learning e generative AI. Registrati ora per l'evento di Generali il 19/07 a Milano!\"\n",
      "}\n",
      "---------------------------------\n",
      "LinkedIn ------> {\n",
      "    \"Post1\": \"Partecipa all'evento di innovazione e inclusione AI ospitato da Generali il 19 luglio presso l'iconica Generali Tower a City Life, Milano. Connettiti con i leader del settore della scienza dei dati!\",\n",
      "    \"Post2\": \"Scopri le applicazioni reali di machine learning e generative AI presentate dai Data Scientist di Generali e le idee di Calvary Rogers di Google sull'applicazione dell'AI per il bene della società.\",\n",
      "    \"Post3\": \"Registrati ora per partecipare all'evento di persona o da remoto e scopri come costruire prodotti AI inclusivi e responsabili. Non perdere l'opportunità di connetterti con i tuoi pari e i leader del settore!\"\n",
      "}\n",
      "---------------------------------\n",
      "Snapchat ------> {\n",
      "    \"Post1\": \"Partecipa all'evento di innovazione e inclusione AI ospitato da Generali il 19/07 presso l'iconica Generali Tower a City Life, Milano. Connettiti con i leader del settore della scienza dei dati!\",\n",
      "    \"Post2\": \"Scopri le applicazioni reali di machine learning e generative AI presentate dai Data Scientist di Generali e le idee di Calvary Rogers di Google sull'applicazione dell'AI per il bene della società.\",\n",
      "    \"Post3\": \"Registrati ora per partecipare all'evento di persona o da remoto e scopri come costruire prodotti AI inclusivi e responsabili. Non perdere l'opportunità di connetterti con i tuoi pari e i leader del settore!\"\n",
      "}\n",
      "---------------------------------\n",
      "TikTok ------> {\n",
      "    \"Post1\": \"Partecipa all'evento di innovazione e inclusione AI ospitato da Generali il 19/07 presso l'iconica Torre Generali a City Life, Milano. Connettiti con i leader del settore della scienza dei dati!\",\n",
      "    \"Post2\": \"Scopri le applicazioni reali di machine learning e generative AI presentate dai Data Scientist di Generali e le idee di Calvary Rogers di Google sull'applicazione dell'AI per il bene della società!\",\n",
      "    \"Post3\": \"Registrati ora per partecipare all'evento di persona o da remoto e scopri come costruire prodotti AI inclusivi e responsabili! #AIInnovation #Inclusione #Responsabilità\"\n",
      "}\n",
      "---------------------------------\n",
      "YouTube ------> {\n",
      "    \"Post1\": \"Partecipa all'evento di innovazione e inclusione AI ospitato da Generali il 19 luglio presso l'iconica Generali Tower a City Life, Milano. Connettiti con i leader del settore della scienza dei dati!\",\n",
      "    \"Post2\": \"Scopri le applicazioni reali di machine learning e generative AI presentate dai Data Scientist di Generali e le idee di Calvary Rogers di Google sull'applicazione dell'AI per il bene della società.\",\n",
      "    \"Post3\": \"Registrati ora per partecipare all'evento di persona o da remoto e scopri come costruire prodotti AI inclusivi e responsabili. Non perdere l'opportunità di connetterti con i tuoi pari e i leader del settore!\" \n",
      "}\n",
      "---------------------------------\n",
      "Pinterest ------> {\n",
      "    \"Post1\": \"Partecipa all'evento di innovazione e inclusione AI ospitato da Generali il 19/07 a Milano. Scopri le applicazioni reali di machine learning e AI generativa!\",\n",
      "    \"Post2\": \"Connettiti con i leader dell'industria della scienza dei dati e scopri come Google applica l'AI per il bene della società. Registrati ora per partecipare di persona o da remoto!\",\n",
      "    \"Post3\": \"Unisciti a Generali per costruire prodotti AI inclusivi e responsabili. Non perdere l'opportunità di partecipare all'evento di networking presso l'iconica Generali Tower di City Life, Milano!\"\n",
      "}\n",
      "---------------------------------\n",
      "Reddit ------> {\n",
      "    \"Post1\": \"Partecipa all'evento di innovazione e inclusione AI ospitato da Generali il 19 luglio presso l'iconica Generali Tower a City Life, Milano. Connettiti con i leader del settore della scienza dei dati.\",\n",
      "    \"Post2\": \"Scopri le applicazioni reali di machine learning e generative AI presentate dai Data Scientist di Generali e le idee di Calvary Rogers di Google sull'applicazione dell'AI per il bene della società.\",\n",
      "    \"Post3\": \"Registrati ora per partecipare all'evento in persona o da remoto e scopri come costruire prodotti AI inclusivi e responsabili. Non perdere questa opportunità unica!\"\n",
      "}\n",
      "---------------------------------\n",
      "Website ------> {\n",
      "    \"Post1\": \"Partecipa all'evento di innovazione e inclusione AI ospitato da Generali il 19 luglio presso l'iconica Generali Tower a City Life, Milano. Registrati ora!\",\n",
      "    \"Post2\": \"Scopri le applicazioni reali di machine learning e generative AI presentate dai Data Scientist di Generali e le idee di Calvary Rogers di Google sull'uso responsabile dell'AI.\",\n",
      "    \"Post3\": \"Non perdere l'opportunità di connetterti con i leader del settore della scienza dei dati durante la sessione di networking dell'evento. Partecipa di persona o da remoto!\" \n",
      "}\n",
      "---------------------------------\n",
      "Blog ------> {\n",
      "    \"Post1\": \"Partecipa all'evento di innovazione e inclusione AI ospitato da Generali il 19 luglio a Milano. Scopri le applicazioni reali di machine learning e AI generativa e connettiti con i leader del settore.\",\n",
      "    \"Post2\": \"Unisciti a Generali e Calvary Rogers di Google per scoprire come l'AI può essere inclusiva e responsabile. Partecipa di persona o da remoto, ma non dimenticare di registrarti!\",\n",
      "    \"Post3\": \"Vieni all'evento di Generali per conoscere le ultime novità sull'AI e connetterti con i professionisti del settore. Non perdere l'opportunità di scoprire come l'AI può essere utilizzata per il bene della società.\"\n",
      "}\n",
      "---------------------------------\n",
      "Email ------> {\n",
      "    \"Post1\": \"Partecipa all'evento di innovazione e inclusione AI ospitato da Generali il 19/07 presso l'iconica Generali Tower a Milano. Connettiti con i leader del settore della scienza dei dati.\",\n",
      "    \"Post2\": \"Scopri le applicazioni reali di machine learning e generative AI presentate dai Data Scientist di Generali e le idee di Calvary Rogers di Google sull'applicazione dell'AI per il bene della società.\",\n",
      "    \"Post3\": \"Registrati ora per partecipare all'evento in persona o da remoto e scopri come costruire prodotti AI inclusivi e responsabili. Non perdere l'opportunità di connetterti con i tuoi pari e i leader del settore!\"\n",
      "}\n",
      "---------------------------------\n",
      "Print ------> {\n",
      "    \"Post1\": \"Partecipa all'evento di innovazione e inclusione AI ospitato da Generali il 19 luglio presso l'iconica Generali Tower a City Life, Milano. Connettiti con i leader del settore della scienza dei dati!\",\n",
      "    \"Post2\": \"Scopri le applicazioni reali di machine learning e generative AI presentate dai Data Scientist di Generali e le idee di Calvary Rogers di Google sull'applicazione dell'AI per il bene della società.\",\n",
      "    \"Post3\": \"Registrati ora per partecipare all'evento di persona o da remoto e scopri come costruire prodotti AI inclusivi e responsabili. Non perdere l'opportunità di connetterti con i tuoi pari e i leader del settore!\" \n",
      "}\n",
      "---------------------------------\n",
      "Advertising ------> {\n",
      "    \"Post1\": \"Partecipa all'evento di innovazione e inclusione AI ospitato da Generali il 19/07 presso l'iconica Generali Tower a Milano. Connettiti con i leader del settore della scienza dei dati!\",\n",
      "    \"Post2\": \"Scopri le applicazioni reali di machine learning e generative AI presentate dai Data Scientist di Generali e le idee di Calvary Rogers di Google sull'uso responsabile dell'AI per il bene della società.\",\n",
      "    \"Post3\": \"Registrati ora per partecipare all'evento di persona o da remoto e scopri come costruire prodotti AI inclusivi e responsabili. Non perdere l'opportunità di connetterti con i tuoi pari e i leader del settore!\"\n",
      "}\n",
      "---------------------------------\n",
      "Speeches ------> {\n",
      "    \"Post1\": \"Partecipa all'evento di innovazione e inclusione sull'AI ospitato da Generali il 19/07 a Milano. Scopri le applicazioni reali di machine learning e AI generativa!\",\n",
      "    \"Post2\": \"Connettiti con i leader del settore della scienza dei dati e scopri come Google applica l'AI per il bene della società. Iscriviti ora all'evento di Generali!\",\n",
      "    \"Post3\": \"Non perdere l'opportunità di partecipare all'evento di Generali sull'AI inclusiva e responsabile. Registrati ora per partecipare di persona o da remoto!\"\n",
      "}\n",
      "---------------------------------\n",
      "Press Releases ------> {\n",
      "    \"Post1\": \"Generali ospita l'evento AI Innovation & Inclusion il 19 luglio presso l'iconica Generali Tower a City Life, Milano. Partecipa di persona o da remoto!\",\n",
      "    \"Post2\": \"Unisciti ai Data Scientist di Generali e a Calvary Rogers di Google per scoprire applicazioni reali di machine learning e AI generativa per un futuro inclusivo e responsabile.\",\n",
      "    \"Post3\": \"Non perdere l'opportunità di connetterti con i leader del settore della scienza dei dati durante la sessione di networking dell'evento AI Innovation & Inclusion di Generali.\"\n",
      "}\n",
      "---------------------------------\n",
      "Newsletters ------> {\n",
      "    \"Post1\": \"Partecipa all'evento di innovazione e inclusione AI ospitato da Generali il 19/07 presso l'iconica Generali Tower a Milano. Connettiti con i leader del settore della scienza dei dati.\",\n",
      "    \"Post2\": \"Scopri le applicazioni reali di machine learning e generative AI presentate dai Data Scientist di Generali e le idee di Calvary Rogers di Google sull'applicazione dell'AI per il bene della società.\",\n",
      "    \"Post3\": \"Registrati ora per partecipare all'evento di persona o da remoto e scopri come costruire prodotti AI inclusivi e responsabili. Non perdere l'opportunità di connetterti con i tuoi pari e i leader del settore!\"\n",
      "}\n",
      "---------------------------------\n",
      "Brochures ------> {\n",
      "    \"Post1\": \"Partecipa all'evento di innovazione e inclusione AI ospitato da Generali il 19 luglio presso l'iconica Generali Tower a City Life, Milano. Connettiti con i leader del settore della scienza dei dati.\",\n",
      "    \"Post2\": \"Scopri come Generali e Google stanno applicando l'AI in modo responsabile e inclusivo. Iscriviti all'evento in presenza o online. Registrazione obbligatoria!\",\n",
      "    \"Post3\": \"Unisciti ai data scientist di Generali e a Calvary Rogers di Google per conoscere le applicazioni reali di machine learning e generative AI. Non perdere l'opportunità di connetterti con i tuoi colleghi del settore.\"\n",
      "}\n",
      "---------------------------------\n"
     ]
    }
   ],
   "source": [
    "# Check which channels make a difference in the output\n",
    "\n",
    "topic = \"\"\"The AI Innovation & Inclusion event will be hosted by Generali on Monday 19th \n",
    "at the iconic Generali Tower in City Life, Milan. The event is also featuring a \n",
    "networking session to connect with peers and  industry leaders in the field of data science.\n",
    "\n",
    "The event is focused on building AI products that are inclusive and responsible. \n",
    "Data Scientists from Generali will show some real-life applications\n",
    " of machine learning and generative AI, while Calvary Rogers \n",
    " from Google will share insights on how his company applies \n",
    " AI for the benefit of people and society.\n",
    "\n",
    "Participants have the option  to attend the event in person or remotely, \n",
    "and registration is required!\"\"\"\n",
    "\n",
    "\n",
    "persona = 'General Audience'\n",
    "tone = 'Professional'\n",
    "channel = 'Facebook'\n",
    "words = 30\n",
    "language = 'Italian'\n",
    "\n",
    "for purpose in comm_chart['Purpose']:\n",
    "\n",
    "    time.sleep(10)\n",
    "\n",
    "    prompt = one_shot_prompt(\n",
    "                topic = topic,\n",
    "                channel = channel, \n",
    "                persona = persona, \n",
    "                tone = tone, \n",
    "                purpose = purpose,\n",
    "                words = words, \n",
    "                language = language)\n",
    "\n",
    "\n",
    "    response = get_completion(prompt)\n",
    "    print(channel, '------>', response)\n",
    "    print(\"---------------------------------\")"
   ]
  },
  {
   "cell_type": "code",
   "execution_count": null,
   "metadata": {},
   "outputs": [],
   "source": []
  }
 ],
 "metadata": {
  "kernelspec": {
   "display_name": "base",
   "language": "python",
   "name": "python3"
  },
  "language_info": {
   "codemirror_mode": {
    "name": "ipython",
    "version": 3
   },
   "file_extension": ".py",
   "mimetype": "text/x-python",
   "name": "python",
   "nbconvert_exporter": "python",
   "pygments_lexer": "ipython3",
   "version": "3.9.12"
  },
  "orig_nbformat": 4
 },
 "nbformat": 4,
 "nbformat_minor": 2
}
