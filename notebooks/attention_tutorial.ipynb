{
 "cells": [
  {
   "cell_type": "markdown",
   "metadata": {},
   "source": [
    "# Scaled Dot-Product Attention: Ungraded Lab\n",
    "\n",
    "The 2017 paper [Attention Is All You Need](https://arxiv.org/abs/1706.03762) introduced the Transformer model and scaled dot-product attention, sometimes also called QKV (**Q**ueries, **K**eys, **V**alues) attention. Since then, Transformers have come to dominate large-scale natural language applications. Scaled dot-product attention can be used to improve seq2seq models as well. In this ungraded lab, you'll implement a simplified version of scaled dot-product attention and replicate word alignment between English and French, as shown in [Bhadanau, et al. (2014)](https://arxiv.org/abs/1409.0473).\n",
    "\n",
    "The Transformer model learns how to align words in different languages. You won't be training any weights here, so instead you will use [pre-trained aligned word embeddings from here](https://fasttext.cc/docs/en/aligned-vectors.html). Run the cell below to load the embeddings and set up the rest of the notebook.\n",
    "\n",
    "This is a practice notebook, where you can train writing your code. All of the solutions are provided at the end of the notebook."
   ]
  },
  {
   "cell_type": "markdown",
   "metadata": {},
   "source": [
    "The scaled-dot product attention consists of two matrix multiplications and a softmax scaling as shown in the diagram below from [Vaswani, et al. (2017)](https://arxiv.org/abs/1706.03762). It takes three input matrices, the queries, keys, and values.\n",
    "\n",
    "![scaled-dot product attention diagram](./images/attention.png)\n",
    "\n",
    "Mathematically, this is expressed as\n",
    "\n",
    "$$ \n",
    "\\large \\mathrm{Attention}\\left(Q, K, V\\right) = \\mathrm{softmax}\\left(\\frac{QK^{\\top}}{\\sqrt{d_k}}\\right)V\n",
    "$$\n",
    "\n",
    "where $Q$, $K$, and $V$ are the queries, keys, and values matrices respectively, and $d_k$ is the dimension of the keys. In practice, Q, K, and V all have the same dimensions. This form of attention is faster and more space-efficient than what you implemented before since it consists of only matrix multiplications instead of a learned feed-forward layer.\n",
    "\n",
    "Conceptually, the first matrix multiplication is a measure of the similarity between the queries and the keys. This is transformed into weights using the softmax function. These weights are then applied to the values with the second matrix multiplication resulting in output attention vectors. Typically, decoder states are used as the queries while encoder states are the keys and values.\n",
    "\n",
    "### Exercise 1\n",
    "Implement the softmax function with Numpy and use it to calculate the weights from the queries and keys. Assume the queries and keys are 2D arrays (matrices). Note that since the dot-product of Q and K will be a matrix, you'll need to calculate softmax over a specific axis. See the end of the notebook for solutions."
   ]
  },
  {
   "cell_type": "code",
   "execution_count": 76,
   "metadata": {},
   "outputs": [],
   "source": [
    "import numpy as np\n",
    "import matplotlib.pyplot as plt"
   ]
  },
  {
   "cell_type": "code",
   "execution_count": 127,
   "metadata": {},
   "outputs": [],
   "source": [
    "# Subjectiveness, Foodiness, Pizza fitness, Italianish\n",
    "\n",
    "query= {'Odio': [2, -7, 1, 1],\n",
    "            'Pizza': [1, 8, 3, 8],\n",
    "            'Ananas': [-5, -2, -5, -2],\n",
    "            }\n",
    "\n",
    "query_matrix = np.array([query[word] for word in query.keys()])\n",
    "\n",
    "keys = {'I': [9, 0, 1, -1],\n",
    "            'Hate': [3, -5, -9, 1],\n",
    "            'Pinapple': [-5, 3, -3, -6],\n",
    "            'Pizza': [1, 8, 4, 7]\n",
    "            }\n",
    "\n",
    "keys_matrix = np.array([keys[word] for word in keys.keys()])\n",
    "\n",
    "values = {'I': [9, 0, 1, -1],\n",
    "            'Hate': [3, -5, -9, 1],\n",
    "            'Pinapple': [-5, 3, -3, -6],\n",
    "            'Pizza': [1, 8, 4, 7]\n",
    "            }\n",
    "\n",
    "values_matrix = np.array([values[word] for word in values.keys()])"
   ]
  },
  {
   "cell_type": "code",
   "execution_count": 128,
   "metadata": {},
   "outputs": [],
   "source": [
    "def softmax(x, axis=0):    \n",
    "    \"\"\" Calculate softmax function for an array x\n",
    "\n",
    "        axis=0 calculates softmax across rows which means each column sums to 1 \n",
    "        axis=1 calculates softmax across columns which means each row sums to 1\n",
    "    \"\"\"\n",
    "    # Replace pass with your code.\n",
    "    y = np.exp(x)\n",
    "    \n",
    "    sm = y / np.expand_dims(np.sum(y, axis=axis), axis)\n",
    "\n",
    "    return sm\n",
    "\n",
    "def calculate_weights(queries, keys):\n",
    "    \"\"\" Calculate the weights for scaled dot-product attention\"\"\"\n",
    "    # Replace None with your code.\n",
    "    dot = np.matmul(queries, keys.T)/np.sqrt(keys.shape[1])\n",
    "    weights = softmax(dot, axis=1)\n",
    "    print(weights)\n",
    "    assert weights.sum(axis=1)[0] == 1, \"Each row in weights must sum to 1\"\n",
    "    \n",
    "    # Replace pass with your code.\n",
    "    return weights"
   ]
  },
  {
   "cell_type": "code",
   "execution_count": 129,
   "metadata": {},
   "outputs": [
    {
     "name": "stdout",
     "output_type": "stream",
     "text": [
      "[[5.52778637e-04 9.99447221e-01 1.40608403e-16 3.13739755e-17]\n",
      " [9.72760477e-29 9.10272579e-42 7.37601510e-38 1.00000000e+00]\n",
      " [3.80431909e-21 1.79862100e-02 9.82013790e-01 1.14880482e-22]]\n"
     ]
    },
    {
     "data": {
      "text/plain": [
       "array([[5.52778637e-04, 9.99447221e-01, 1.40608403e-16, 3.13739755e-17],\n",
       "       [9.72760477e-29, 9.10272579e-42, 7.37601510e-38, 1.00000000e+00],\n",
       "       [3.80431909e-21, 1.79862100e-02, 9.82013790e-01, 1.14880482e-22]])"
      ]
     },
     "execution_count": 129,
     "metadata": {},
     "output_type": "execute_result"
    }
   ],
   "source": [
    "# These weights indicate alignment between words in English and French\n",
    "alignment = calculate_weights(query_matrix, keys_matrix)\n",
    "alignment"
   ]
  },
  {
   "cell_type": "code",
   "execution_count": 89,
   "metadata": {},
   "outputs": [
    {
     "data": {
      "text/plain": [
       "dict_keys(['I', 'Hate', 'Pinapple', 'Pizza'])"
      ]
     },
     "execution_count": 89,
     "metadata": {},
     "output_type": "execute_result"
    }
   ],
   "source": [
    "keys.keys()"
   ]
  },
  {
   "cell_type": "code",
   "execution_count": 130,
   "metadata": {},
   "outputs": [
    {
     "data": {
      "image/png": "[encoded data removed]",
      "text/plain": [
       "<Figure size 700x700 with 1 Axes>"
      ]
     },
     "metadata": {},
     "output_type": "display_data"
    }
   ],
   "source": [
    "# Visualize weights to check for alignment\n",
    "fig, ax = plt.subplots(figsize=(7,7))\n",
    "ax.imshow(alignment, cmap='gray')\n",
    "ax.xaxis.tick_top()\n",
    "ax.set_xticks(np.arange(alignment.shape[1]))\n",
    "ax.set_xticklabels(keys.keys(), rotation=90, size=16);\n",
    "ax.set_yticks(np.arange(alignment.shape[0]));\n",
    "ax.set_yticklabels(query.keys(), size=16);"
   ]
  },
  {
   "cell_type": "markdown",
   "metadata": {},
   "source": [
    "If you implemented the weights calculations correctly, the alignment matrix should look like this:\n",
    "\n",
    "![alignment visualization](./images/alignment.png)\n",
    "\n",
    "This is a demonstration of alignment where the model has learned which words in English correspond to words in French. For example, the words *signed* and *signé* have a large weight because they have the same meaning. Typically, these alignments are learned using linear layers in the model, but you've used pre-trained embeddings here.\n",
    "\n",
    "### Exercise 2\n",
    "Complete the implementation of scaled dot-product attention using your `calculate_weights` function (ignore the mask)."
   ]
  },
  {
   "cell_type": "code",
   "execution_count": 140,
   "metadata": {},
   "outputs": [
    {
     "name": "stdout",
     "output_type": "stream",
     "text": [
      "[[5.52778637e-04 9.99447221e-01 1.40608403e-16 3.13739755e-17]\n",
      " [9.72760477e-29 9.10272579e-42 7.37601510e-38 1.00000000e+00]\n",
      " [3.80431909e-21 1.79862100e-02 9.82013790e-01 1.14880482e-22]]\n",
      "The shape of the attention_qkv function is (3, 4)\n",
      "Some elements of the attention_qkv function are \n",
      "[[ 3.00331667 -4.99723611 -8.99447221  0.99889444]\n",
      " [ 1.          8.          4.          7.        ]\n",
      " [-4.85611032  2.85611032 -3.10791726 -5.87409653]]\n"
     ]
    }
   ],
   "source": [
    "def attention_qkv(queries, keys, values):\n",
    "    \"\"\" Calculate scaled dot-product attention from queries, keys, and values matrices \"\"\"\n",
    "    \n",
    "    # Replace pass with your code.\n",
    "    weights = calculate_weights(queries, keys)\n",
    "    \n",
    "    return np.matmul(weights, values)\n",
    "\n",
    "attention_qkv_result = attention_qkv(query_matrix, keys_matrix, values_matrix)\n",
    "\n",
    "print(f\"The shape of the attention_qkv function is {attention_qkv_result.shape}\")\n",
    "print(f\"Some elements of the attention_qkv function are \\n{attention_qkv_result}\")"
   ]
  },
  {
   "cell_type": "code",
   "execution_count": 141,
   "metadata": {},
   "outputs": [
    {
     "name": "stdout",
     "output_type": "stream",
     "text": [
      "[[5.52778637e-04 9.99447221e-01 1.40608403e-16 3.13739755e-17]\n",
      " [9.72760477e-29 9.10272579e-42 7.37601510e-38 1.00000000e+00]\n",
      " [3.80431909e-21 1.79862100e-02 9.82013790e-01 1.14880482e-22]]\n"
     ]
    }
   ],
   "source": [
    "weights = calculate_weights(query_matrix, keys_matrix)"
   ]
  }
 ],
 "metadata": {
  "kernelspec": {
   "display_name": "Python 3",
   "language": "python",
   "name": "python3"
  },
  "language_info": {
   "codemirror_mode": {
    "name": "ipython",
    "version": 3
   },
   "file_extension": ".py",
   "mimetype": "text/x-python",
   "name": "python",
   "nbconvert_exporter": "python",
   "pygments_lexer": "ipython3",
   "version": "3.11.4"
  }
 },
 "nbformat": 4,
 "nbformat_minor": 2
}
