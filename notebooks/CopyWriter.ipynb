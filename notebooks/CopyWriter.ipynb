{
 "cells": [
  {
   "cell_type": "markdown",
   "metadata": {},
   "source": [
    "# Environment Set up"
   ]
  },
  {
   "cell_type": "code",
   "execution_count": 49,
   "metadata": {},
   "outputs": [],
   "source": [
    "import sys \n",
    "sys.path.append('/')\n",
    "\n",
    "import openai\n",
    "import os\n",
    "from src.utils import *\n",
    "\n",
    "openai.api_key  = get_key('.env')"
   ]
  },
  {
   "cell_type": "code",
   "execution_count": 78,
   "metadata": {},
   "outputs": [],
   "source": [
    "def get_completion(prompt, model=\"gpt-3.5-turbo\", temperature = 0):\n",
    "    messages = [{\"role\": \"user\", \"content\": prompt}]\n",
    "    response = openai.ChatCompletion.create(\n",
    "        model=model,\n",
    "        messages=messages,\n",
    "        temperature=temperature, # this is the degree of randomness of the model's output\n",
    "    )\n",
    "    return response.choices[0].message[\"content\"]\n"
   ]
  },
  {
   "cell_type": "code",
   "execution_count": 51,
   "metadata": {},
   "outputs": [
    {
     "name": "stdout",
     "output_type": "stream",
     "text": [
      "[\n",
      "  {\n",
      "    \"book_id\": 1,\n",
      "    \"title\": \"The Lost City of Zorath\",\n",
      "    \"author\": \"Aria Blackwood\",\n",
      "    \"genre\": \"Fantasy\"\n",
      "  },\n",
      "  {\n",
      "    \"book_id\": 2,\n",
      "    \"title\": \"The Last Survivors\",\n",
      "    \"author\": \"Ethan Stone\",\n",
      "    \"genre\": \"Science Fiction\"\n",
      "  },\n",
      "  {\n",
      "    \"book_id\": 3,\n",
      "    \"title\": \"The Secret of the Haunted Mansion\",\n",
      "    \"author\": \"Lila Rose\",\n",
      "    \"genre\": \"Mystery\"\n",
      "  }\n",
      "]\n"
     ]
    }
   ],
   "source": [
    "prompt = f\"\"\"\n",
    "Generate a list of three made-up book titles along \\ \n",
    "with their authors and genres. \n",
    "Provide them in JSON format with the following keys: \n",
    "book_id, title, author, genre.\n",
    "\"\"\"\n",
    "response = get_completion(prompt)\n",
    "print(response)"
   ]
  },
  {
   "cell_type": "code",
   "execution_count": 73,
   "metadata": {},
   "outputs": [],
   "source": [
    "# Brand Tone\n",
    "\n",
    "tone_chart = {\n",
    "\n",
    "    'Persona': ['Friendly', 'Warm', 'Inspiring', 'Playful', 'Authoritative', 'Professional', 'Caring', 'Confident'\n",
    "                ,'Knowledgeable', 'Expert', 'Geeky', 'Hip', 'Trendy', 'Innovative', 'Cutting-edge', 'Rebellious', 'Edgy'],\n",
    "\n",
    "    'Tone': ['Personal', 'Honest', 'Humble', 'Direct', 'Clinical', 'Scientific', 'Casual', 'Formal', 'Friendly', 'Warm',\n",
    "             'Humorous', 'Serious', 'Enthusiastic', 'Reserved', 'Optimistic', 'Pessimistic', 'Hopeful', 'Cynical',\n",
    "             'Sincere', 'Sarcastic', 'Candid', 'Frank', 'Straightforward', 'Energetic', 'Laid-back', 'Relaxed'],\n",
    "\n",
    "    'Language': ['Simple', 'Complex', 'Short', 'Long', 'Plain', 'Technical',\n",
    "                 'Jargon', 'Slang', 'Positive', 'Savvy', 'Negative', 'Emotional',\n",
    "                 'Neutral', 'Fun', 'Insider', 'Outsider', 'Inclusive', 'Exclusive'],\n",
    "\n",
    "    'Purpose': ['Inform', 'Educate', 'Engage', 'Entertain', 'Sell', 'Persuade', 'Inspire', 'Motivate', 'Instruct', \n",
    "                'Enable', 'Amplify', 'Advise', 'Guide', 'Convince', 'Reassure', 'Remind', 'Warn', 'Request', 'Demand',\n",
    "                'Command', 'Encourage', 'Praise',  'Sympathize', 'Suggest', 'Recommend','Urge', 'Demand', 'Insist', 'Warn']\n",
    "}\n",
    "\n",
    "channels = ['Website', 'Blog', 'Social Media', 'Email', 'Print', 'Advertising', 'Packaging',\n",
    "             'Customer Service', 'Sales', 'Events', 'Public Relations', 'Internal Communications', \n",
    "             'Speeches', 'Press Releases', 'Newsletters', 'Brochures', 'Flyers', 'Posters', 'Billboards', 'Direct Mail', \n",
    "             'Catalogs', 'Menus','Facebook', 'Twitter', 'Instagram', 'LinkedIn', \n",
    "                'Snapchat', 'TikTok', 'YouTube', 'Pinterest', 'Reddit', 'Tumblr']\n",
    "\n",
    "type = [None]"
   ]
  },
  {
   "cell_type": "markdown",
   "metadata": {},
   "source": [
    "# One-shot prompting "
   ]
  },
  {
   "cell_type": "code",
   "execution_count": 82,
   "metadata": {},
   "outputs": [],
   "source": [
    "words = None\n",
    "channel = None\n",
    "social_media = None\n",
    "topic = None\n",
    "persona = None\n",
    "tone = None\n",
    "language = None\n",
    "purpose = None\n",
    "\n",
    "def one_shot_prompt(words = None, \n",
    "             type = None, \n",
    "             channel = None, \n",
    "             topic = None, \n",
    "             persona = None, \n",
    "             tone = None, \n",
    "             language = None, \n",
    "             purpose = None):\n",
    "    \n",
    "    prompt = f\"\"\"\n",
    "\n",
    "    Write three post for {channel}  about \n",
    "    \n",
    "    the topic in treble backtick ```{topic}``` .\n",
    "\n",
    "    The audiene persona is {persona} and the tone is {tone}.\n",
    "\n",
    "    Use a {language} language. The goal of the post is to {purpose}.\n",
    "\n",
    "    Use at most {words} words.\n",
    "\n",
    "    \"\"\"\n",
    "    \n",
    "    return prompt"
   ]
  },
  {
   "cell_type": "code",
   "execution_count": 83,
   "metadata": {},
   "outputs": [
    {
     "name": "stdout",
     "output_type": "stream",
     "text": [
      "1. Congrats Napoli! You deserve the Champions League win! #Napoli #ChampionsLeague\n",
      "2. Amazing job, Napoli! You played with heart and determination! #ChampionsLeague #Napoli\n",
      "3. Napoli, you made history tonight! Congratulations on winning the Champions League! #Napoli #ChampionsLeague\n"
     ]
    }
   ],
   "source": [
    "words = 20\n",
    "channel =  'Facebook'\n",
    "type = ''\n",
    "topic = 'Napoli won the Champions League'\n",
    "persona = 'Friendly'\n",
    "tone = 'Neutral'\n",
    "language = 'Plain'\n",
    "purpose = 'Praise'\n",
    "\n",
    "prompt = one_shot_prompt(words = words, \n",
    "             type = type, \n",
    "             channel = channel, \n",
    "             topic = topic, \n",
    "             persona = persona, \n",
    "             tone = tone, \n",
    "             language = language, \n",
    "             purpose = purpose)\n",
    "\n",
    "\n",
    "response = get_completion(prompt, temperature = 0.5)\n",
    "print(response)"
   ]
  },
  {
   "cell_type": "code",
   "execution_count": 80,
   "metadata": {},
   "outputs": [
    {
     "data": {
      "text/plain": [
       "\"1. Hey Innovators! 🚀 Are you ready for an exciting meetup on Responsible AI? Join us at Insurtech Generali's event and learn about the latest trends in AI and how to use them responsibly. Don't miss out on this opportunity to network with like-minded professionals and expand your knowledge. See you there! #ResponsibleAI #InsurtechGenerali #Meetup\\n\\n2. Calling all tech-savvy individuals! 🤖 Insurtech Generali is hosting a meetup on Responsible AI and we want you to join us. Let's dive into the world of AI and explore how it can be used ethically and responsibly. Plus, you'll get to meet some amazing people and make valuable connections. RSVP today and let's geek out together! #AI #ResponsibleTech #InsurtechGenerali\\n\\n3. 📢 Attention all innovators! 📢 Insurtech Generali is excited to host a meetup on Responsible AI and we want YOU to be a part of it. Come learn from industry experts and discover how AI can be used to make a positive impact on society. This is your chance to meet other forward-thinking individuals and be a part of the AI revolution. See you there! #ResponsibleAI #InsurtechGenerali #Innovation\""
      ]
     },
     "execution_count": 80,
     "metadata": {},
     "output_type": "execute_result"
    }
   ],
   "source": [
    "response"
   ]
  },
  {
   "cell_type": "code",
   "execution_count": 72,
   "metadata": {},
   "outputs": [
    {
     "name": "stdout",
     "output_type": "stream",
     "text": [
      "Hey there, fellow tech enthusiasts! 🤖👋\n",
      "\n",
      "We've got some exciting news for you! 🎉🎉\n",
      "\n",
      "Generali, the leading insurtech company, is hosting a Meetup on Responsible AI! 🤖🌍\n",
      "\n",
      "Join us as we explore the latest advancements in AI and how we can use it responsibly to benefit society. 🤔👨‍💻\n",
      "\n",
      "This is a great opportunity to network with like-minded individuals and learn from experts in the field. 🤝👥\n",
      "\n",
      "Don't miss out on this chance to be part of the AI revolution! 🚀🤖\n",
      "\n",
      "RSVP now and let's geek out together! 🤓👨‍💻 #ResponsibleAI #GeneraliMeetup #Insurtech #AIRevolution\n"
     ]
    }
   ],
   "source": [
    "words = 20\n",
    "channel =  'Facebook'\n",
    "type = ''\n",
    "topic = 'Insurtech Generali is hosting a Meetup on Responsible AI'\n",
    "persona = 'Friendly'\n",
    "tone = 'Scientific'\n",
    "language = 'Insider'\n",
    "purpose = 'Engage'\n",
    "\n",
    "prompt = one_shot_prompt(words = words, \n",
    "             type = type, \n",
    "             channel = channel, \n",
    "             topic = topic, \n",
    "             persona = persona, \n",
    "             tone = tone, \n",
    "             language = language, \n",
    "             purpose = purpose)\n",
    "\n",
    "\n",
    "response = get_completion(prompt)\n",
    "print(response)"
   ]
  },
  {
   "cell_type": "code",
   "execution_count": null,
   "metadata": {},
   "outputs": [],
   "source": []
  }
 ],
 "metadata": {
  "kernelspec": {
   "display_name": "base",
   "language": "python",
   "name": "python3"
  },
  "language_info": {
   "codemirror_mode": {
    "name": "ipython",
    "version": 3
   },
   "file_extension": ".py",
   "mimetype": "text/x-python",
   "name": "python",
   "nbconvert_exporter": "python",
   "pygments_lexer": "ipython3",
   "version": "3.8.5"
  },
  "orig_nbformat": 4
 },
 "nbformat": 4,
 "nbformat_minor": 2
}
