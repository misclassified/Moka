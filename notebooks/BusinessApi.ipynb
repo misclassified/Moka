{
 "cells": [
  {
   "cell_type": "code",
   "execution_count": 1,
   "metadata": {},
   "outputs": [
    {
     "name": "stdout",
     "output_type": "stream",
     "text": [
      "Requirement already satisfied: facebook_business in /Applications/anaconda3/lib/python3.6/site-packages (9.0.1)\n",
      "Requirement already satisfied: six>=1.7.3 in /Applications/anaconda3/lib/python3.6/site-packages (from facebook_business) (1.12.0)\n",
      "Requirement already satisfied: curlify>=2.1.0 in /Applications/anaconda3/lib/python3.6/site-packages (from facebook_business) (2.2.1)\n",
      "Requirement already satisfied: aiohttp; python_version >= \"3.5.3\" in /Applications/anaconda3/lib/python3.6/site-packages (from facebook_business) (3.7.3)\n",
      "Requirement already satisfied: requests>=2.3.0 in /Applications/anaconda3/lib/python3.6/site-packages (from facebook_business) (2.18.4)\n",
      "Requirement already satisfied: pycountry>=19.8.18 in /Applications/anaconda3/lib/python3.6/site-packages (from facebook_business) (20.7.3)\n",
      "Requirement already satisfied: yarl<2.0,>=1.0 in /Applications/anaconda3/lib/python3.6/site-packages (from aiohttp; python_version >= \"3.5.3\"->facebook_business) (1.6.3)\n",
      "Requirement already satisfied: multidict<7.0,>=4.5 in /Applications/anaconda3/lib/python3.6/site-packages (from aiohttp; python_version >= \"3.5.3\"->facebook_business) (5.1.0)\n",
      "Requirement already satisfied: async-timeout<4.0,>=3.0 in /Applications/anaconda3/lib/python3.6/site-packages (from aiohttp; python_version >= \"3.5.3\"->facebook_business) (3.0.1)\n",
      "Requirement already satisfied: attrs>=17.3.0 in /Applications/anaconda3/lib/python3.6/site-packages (from aiohttp; python_version >= \"3.5.3\"->facebook_business) (18.1.0)\n",
      "Requirement already satisfied: chardet<4.0,>=2.0 in /Applications/anaconda3/lib/python3.6/site-packages (from aiohttp; python_version >= \"3.5.3\"->facebook_business) (3.0.4)\n",
      "Requirement already satisfied: idna-ssl>=1.0; python_version < \"3.7\" in /Applications/anaconda3/lib/python3.6/site-packages (from aiohttp; python_version >= \"3.5.3\"->facebook_business) (1.1.0)\n",
      "Requirement already satisfied: typing-extensions>=3.6.5 in /Applications/anaconda3/lib/python3.6/site-packages (from aiohttp; python_version >= \"3.5.3\"->facebook_business) (3.7.4.3)\n",
      "Requirement already satisfied: idna<2.7,>=2.5 in /Applications/anaconda3/lib/python3.6/site-packages (from requests>=2.3.0->facebook_business) (2.6)\n",
      "Requirement already satisfied: urllib3<1.23,>=1.21.1 in /Applications/anaconda3/lib/python3.6/site-packages (from requests>=2.3.0->facebook_business) (1.22)\n",
      "Requirement already satisfied: certifi>=2017.4.17 in /Applications/anaconda3/lib/python3.6/site-packages (from requests>=2.3.0->facebook_business) (2018.4.16)\n",
      "\u001b[33mWARNING: You are using pip version 19.1.1, however version 20.3.3 is available.\n",
      "You should consider upgrading via the 'pip install --upgrade pip' command.\u001b[0m\n"
     ]
    }
   ],
   "source": [
    "!pip install facebook_business"
   ]
  },
  {
   "cell_type": "code",
   "execution_count": null,
   "metadata": {},
   "outputs": [],
   "source": [
    "from facebook_business.api import FacebookAdsApi\n",
    "from facebook_business.adobjects.adaccount import AdAccount\n",
    "from facebook_business.adobjects.campaign import Campaign\n",
    "from facebook_business.adobjects.adset import AdSet\n",
    "from facebook_business.adobjects.targetingsearch import TargetingSearch\n",
    "from facebook_business.adobjects.targeting import Targeting\n",
    "from facebook_business.adobjects.adimage import AdImage\n",
    "from facebook_business.api import FacebookAdsApi\n",
    "import datetime"
   ]
  },
  {
   "cell_type": "code",
   "execution_count": 4,
   "metadata": {},
   "outputs": [],
   "source": [
    "access_token = ''\n",
    "ad_account_id = 'act_451425182336848'\n",
    "my_app_id = '4057385084291928'\n",
    "my_app_secret = '7530b28afca06e1284f8aa39168b67bf'"
   ]
  },
  {
   "cell_type": "code",
   "execution_count": 5,
   "metadata": {},
   "outputs": [
    {
     "data": {
      "text/plain": [
       "<facebook_business.api.FacebookAdsApi at 0x10d4b94a8>"
      ]
     },
     "execution_count": 5,
     "metadata": {},
     "output_type": "execute_result"
    }
   ],
   "source": [
    "# Initialize API\n",
    "FacebookAdsApi.init(access_token=access_token)"
   ]
  },
  {
   "cell_type": "code",
   "execution_count": 13,
   "metadata": {},
   "outputs": [
    {
     "data": {
      "text/plain": [
       "['AccountStatus',\n",
       " 'AgencyClientDeclaration',\n",
       " 'Capabilities',\n",
       " 'ClaimObjective',\n",
       " 'ContentType',\n",
       " 'Currency',\n",
       " 'Field',\n",
       " 'PermittedTasks',\n",
       " 'Subtype',\n",
       " 'Tasks',\n",
       " 'TaxIdStatus',\n",
       " '_MutableMapping__marker',\n",
       " '__abstractmethods__',\n",
       " '__class__',\n",
       " '__contains__',\n",
       " '__delattr__',\n",
       " '__delitem__',\n",
       " '__dict__',\n",
       " '__dir__',\n",
       " '__doc__',\n",
       " '__eq__',\n",
       " '__format__',\n",
       " '__ge__',\n",
       " '__getattribute__',\n",
       " '__getitem__',\n",
       " '__gt__',\n",
       " '__hash__',\n",
       " '__init__',\n",
       " '__init_subclass__',\n",
       " '__iter__',\n",
       " '__le__',\n",
       " '__len__',\n",
       " '__lt__',\n",
       " '__module__',\n",
       " '__ne__',\n",
       " '__new__',\n",
       " '__reduce__',\n",
       " '__reduce_ex__',\n",
       " '__repr__',\n",
       " '__reversed__',\n",
       " '__setattr__',\n",
       " '__setitem__',\n",
       " '__sizeof__',\n",
       " '__slots__',\n",
       " '__str__',\n",
       " '__subclasshook__',\n",
       " '__unicode__',\n",
       " '__weakref__',\n",
       " '_abc_cache',\n",
       " '_abc_negative_cache',\n",
       " '_abc_negative_cache_version',\n",
       " '_abc_registry',\n",
       " '_api',\n",
       " '_assign_fields_to_params',\n",
       " '_changes',\n",
       " '_clear_history',\n",
       " '_data',\n",
       " '_default_read_fields',\n",
       " '_field_checker',\n",
       " '_field_types',\n",
       " '_get_field_enum_info',\n",
       " '_include_summary',\n",
       " '_isAdAccount',\n",
       " '_parent_id',\n",
       " '_set_data',\n",
       " 'add_labels',\n",
       " 'api_get',\n",
       " 'api_update',\n",
       " 'assure_call',\n",
       " 'clear',\n",
       " 'clear_id',\n",
       " 'create_ad',\n",
       " 'create_ad_creative',\n",
       " 'create_ad_image',\n",
       " 'create_ad_label',\n",
       " 'create_ad_place_page_set',\n",
       " 'create_ad_place_page_sets_async',\n",
       " 'create_ad_playable',\n",
       " 'create_ad_rules_library',\n",
       " 'create_ad_set',\n",
       " 'create_ad_video',\n",
       " 'create_ads_pixel',\n",
       " 'create_agency',\n",
       " 'create_assigned_user',\n",
       " 'create_async_ad_request_set',\n",
       " 'create_async_batch_request',\n",
       " 'create_audience_replace',\n",
       " 'create_block_list_draft',\n",
       " 'create_campaign',\n",
       " 'create_create_and_apply_publisher_block_list',\n",
       " 'create_custom_audience',\n",
       " 'create_custom_audiences_to',\n",
       " 'create_custom_conversion',\n",
       " 'create_object',\n",
       " 'create_product_audience',\n",
       " 'create_publisher_block_list',\n",
       " 'create_reach_frequency_prediction',\n",
       " 'create_sponsored_message_ad',\n",
       " 'create_subscribed_app',\n",
       " 'create_tracking',\n",
       " 'delete_ad_images',\n",
       " 'delete_ad_videos',\n",
       " 'delete_agencies',\n",
       " 'delete_assigned_users',\n",
       " 'delete_campaigns',\n",
       " 'delete_subscribed_apps',\n",
       " 'delete_users_of_any_audience',\n",
       " 'edge_object',\n",
       " 'export_all_data',\n",
       " 'export_changed_data',\n",
       " 'export_data',\n",
       " 'export_value',\n",
       " 'get',\n",
       " 'get_activities',\n",
       " 'get_ad_creatives',\n",
       " 'get_ad_creatives_by_labels',\n",
       " 'get_ad_images',\n",
       " 'get_ad_labels',\n",
       " 'get_ad_place_page_sets',\n",
       " 'get_ad_playables',\n",
       " 'get_ad_rules_history',\n",
       " 'get_ad_rules_library',\n",
       " 'get_ad_sets',\n",
       " 'get_ad_sets_by_labels',\n",
       " 'get_ad_studies',\n",
       " 'get_ad_videos',\n",
       " 'get_ads',\n",
       " 'get_ads_by_labels',\n",
       " 'get_ads_pixels',\n",
       " 'get_ads_volume',\n",
       " 'get_advertisable_applications',\n",
       " 'get_affected_ad_sets',\n",
       " 'get_agencies',\n",
       " 'get_api',\n",
       " 'get_api_assured',\n",
       " 'get_applications',\n",
       " 'get_assigned_users',\n",
       " 'get_async_ad_request_sets',\n",
       " 'get_async_requests',\n",
       " 'get_broad_targeting_categories',\n",
       " 'get_by_ids',\n",
       " 'get_campaigns',\n",
       " 'get_campaigns_by_labels',\n",
       " 'get_connected_instagram_accounts',\n",
       " 'get_content_delivery_report',\n",
       " 'get_custom_audiences',\n",
       " 'get_custom_audiences_tos',\n",
       " 'get_custom_conversions',\n",
       " 'get_default_read_fields',\n",
       " 'get_delivery_estimate',\n",
       " 'get_deprecated_targeting_ad_sets',\n",
       " 'get_endpoint',\n",
       " 'get_generate_previews',\n",
       " 'get_id',\n",
       " 'get_id_assured',\n",
       " 'get_impacting_ad_studies',\n",
       " 'get_insights',\n",
       " 'get_insights_async',\n",
       " 'get_instagram_accounts',\n",
       " 'get_matched_search_applications',\n",
       " 'get_max_bid',\n",
       " 'get_minimum_budgets',\n",
       " 'get_my_account',\n",
       " 'get_node_path',\n",
       " 'get_node_path_string',\n",
       " 'get_offline_conversion_data_sets',\n",
       " 'get_on_behalf_requests',\n",
       " 'get_parent_id',\n",
       " 'get_parent_id_assured',\n",
       " 'get_promote_pages',\n",
       " 'get_publisher_block_lists',\n",
       " 'get_reach_estimate',\n",
       " 'get_reach_frequency_predictions',\n",
       " 'get_roas',\n",
       " 'get_saved_audiences',\n",
       " 'get_subscribed_apps',\n",
       " 'get_targeting_browse',\n",
       " 'get_targeting_search',\n",
       " 'get_targeting_sentence_lines',\n",
       " 'get_targeting_suggestions',\n",
       " 'get_targeting_validation',\n",
       " 'get_tracking',\n",
       " 'get_users',\n",
       " 'items',\n",
       " 'iterate_edge',\n",
       " 'iterate_edge_async',\n",
       " 'keys',\n",
       " 'opt_out_user_from_targeting',\n",
       " 'pop',\n",
       " 'popitem',\n",
       " 'remote_archive',\n",
       " 'remote_create',\n",
       " 'remote_delete',\n",
       " 'remote_read',\n",
       " 'remote_save',\n",
       " 'remote_update',\n",
       " 'remove_labels',\n",
       " 'save',\n",
       " 'set_data',\n",
       " 'set_default_read_fields',\n",
       " 'setdefault',\n",
       " 'update',\n",
       " 'values']"
      ]
     },
     "execution_count": 13,
     "metadata": {},
     "output_type": "execute_result"
    }
   ],
   "source": [
    "dir(AdAccount(ad_account_id))"
   ]
  },
  {
   "cell_type": "code",
   "execution_count": 18,
   "metadata": {},
   "outputs": [
    {
     "name": "stderr",
     "output_type": "stream",
     "text": [
      "/Applications/anaconda3/lib/python3.6/site-packages/facebook_business/utils/api_utils.py:30: UserWarning: value of special_ad_categories might not be compatible.  Expect list<special_ad_categories_enum>;  got <class 'str'>\n",
      "  warnings.warn(message)\n"
     ]
    }
   ],
   "source": [
    "# Create a Campaign\n",
    "params = { \n",
    "    'name': 'test_gio_v1', \n",
    "    'objective': 'POST_ENGAGEMENT', \n",
    "    'status': 'ACTIVE',\n",
    "    'special_ad_categories': 'NONE'\n",
    "}\n",
    "\n",
    "campaign_result = AdAccount(ad_account_id).create_campaign(params=params)"
   ]
  },
  {
   "cell_type": "code",
   "execution_count": 26,
   "metadata": {},
   "outputs": [
    {
     "data": {
      "text/plain": [
       "<AdSet> {\n",
       "    \"id\": \"23846554774560550\"\n",
       "}"
      ]
     },
     "execution_count": 26,
     "metadata": {},
     "output_type": "execute_result"
    }
   ],
   "source": [
    "# Create an AD Set\n",
    "\n",
    "access_token = access_token\n",
    "app_secret = my_app_secret\n",
    "app_id = my_app_id\n",
    "id = ad_account_id\n",
    "FacebookAdsApi.init(access_token=access_token)\n",
    "\n",
    "fields = [\n",
    "]\n",
    "params = {\n",
    "  'name': 'My First AdSet',\n",
    "  'lifetime_budget': '10000',\n",
    "  'start_time': '2021-01-20T22:15:36-0700',\n",
    "  'end_time': '2021-01-22T22:15:36-0800',\n",
    "  'campaign_id': campaign_result[\"id\"],\n",
    "  'bid_amount': '500',\n",
    "  'billing_event': 'IMPRESSIONS',\n",
    "  'optimization_goal': 'POST_ENGAGEMENT',\n",
    "  'targeting': {'age_min':20,'age_max':24,\n",
    "                'behaviors':[{'id':6002714895372,'name':'All travelers'}],\n",
    "                'genders':[1],\n",
    "                'geo_locations':{'countries':['US'],\n",
    "                                 'regions':[{'key':'4081'}],\n",
    "                                 'cities':[{'key':'777934',\n",
    "                                            'radius':10,'distance_unit':'mile'}]},\n",
    "                'life_events':[{'id':6002714398172,'name':'Newlywed (1 year)'}],\n",
    "                'facebook_positions':['feed'],\n",
    "                'publisher_platforms':['facebook','audience_network']},\n",
    "  'status': 'PAUSED',\n",
    "}\n",
    "\n",
    "AdAccount(id).create_ad_set(\n",
    "  fields=fields,\n",
    "  params=params,\n",
    "    \n",
    ")"
   ]
  },
  {
   "cell_type": "code",
   "execution_count": 42,
   "metadata": {},
   "outputs": [
    {
     "name": "stderr",
     "output_type": "stream",
     "text": [
      "WARNING:root:parent_id as a parameter of constructor is being deprecated.\n",
      "WARNING:root:`remote_create` is being deprecated, please update your code with new function.\n",
      "WARNING:root:parent_id is being deprecated.\n",
      "WARNING:root:parent_id is being deprecated.\n",
      "WARNING:root:parent_id is being deprecated.\n"
     ]
    }
   ],
   "source": [
    "# Add Image\n",
    "image = AdImage(parent_id=ad_account_id)\n",
    "image[AdImage.Field.filename] = 'pizza_1.jpg'\n",
    "image.remote_create() \n",
    "image_hash = image[AdImage.Field.hash]"
   ]
  },
  {
   "cell_type": "code",
   "execution_count": 6,
   "metadata": {},
   "outputs": [],
   "source": [
    "# Create Image\n",
    "params = { \n",
    "    'filename': 'pizza_1.jpg', \n",
    "}\n",
    "\n",
    "image = AdAccount(ad_account_id).create_ad_image(fields = 'url', params=params)"
   ]
  },
  {
   "cell_type": "code",
   "execution_count": 11,
   "metadata": {},
   "outputs": [
    {
     "data": {
      "text/plain": [
       "<AdImage> {\n",
       "    \"hash\": \"91caffc376f3cfc0835487412ec1f9b8\",\n",
       "    \"url\": \"https://scontent.fmxp5-1.fna.fbcdn.net/v/t45.1600-4/132012234_23846554784550550_9150180904329956117_n.jpg?_nc_cat=110&ccb=2&_nc_sid=2aac32&_nc_ohc=MM-G-MXg5REAX-DHhrc&_nc_oc=AQmCqFeaQER7ysm0goTFlootfgVavhTYj5ekPiFizAGfhckIg0TngMeuyTB818s9lkc&_nc_ht=scontent.fmxp5-1.fna&oh=c964c85c200e1f02c7346279608d317a&oe=60177BC0\"\n",
       "}"
      ]
     },
     "execution_count": 11,
     "metadata": {},
     "output_type": "execute_result"
    }
   ],
   "source": [
    "image"
   ]
  },
  {
   "cell_type": "code",
   "execution_count": 12,
   "metadata": {},
   "outputs": [
    {
     "data": {
      "text/plain": [
       "[<AdImage> {\n",
       "    \"id\": \"451425182336848:91caffc376f3cfc0835487412ec1f9b8\",\n",
       "    \"url\": \"https://scontent.fmxp5-1.fna.fbcdn.net/v/t45.1600-4/132012234_23846554784550550_9150180904329956117_n.jpg?_nc_cat=110&ccb=2&_nc_sid=2aac32&_nc_ohc=MM-G-MXg5REAX-DHhrc&_nc_oc=AQmCqFeaQER7ysm0goTFlootfgVavhTYj5ekPiFizAGfhckIg0TngMeuyTB818s9lkc&_nc_ht=scontent.fmxp5-1.fna&oh=c964c85c200e1f02c7346279608d317a&oe=60177BC0\"\n",
       "}, <AdImage> {\n",
       "    \"id\": \"451425182336848:b7924de917c2e857aa568c1c66a588cf\",\n",
       "    \"url\": \"https://scontent.fmxp5-1.fna.fbcdn.net/v/t45.1600-4/132180719_23846553871530550_2995179962157784276_n.jpg?_nc_cat=108&ccb=2&_nc_sid=2aac32&_nc_ohc=i-_lTUJu824AX9-iHu1&_nc_ht=scontent.fmxp5-1.fna&oh=b2910ba250df91004f6ed126322a55b2&oe=60169105\"\n",
       "}, <AdImage> {\n",
       "    \"id\": \"451425182336848:77065049eaaecc12a51e3e260ac85042\",\n",
       "    \"url\": \"https://scontent.fmxp5-1.fna.fbcdn.net/v/t45.1600-4/133186412_23846551491500550_1854599062909736095_n.jpg?_nc_cat=103&ccb=2&_nc_sid=2aac32&_nc_ohc=XnxLmuR0xIkAX9TBXaO&_nc_ht=scontent.fmxp5-1.fna&oh=d0b5610f99e6ebf2eb2b8f68d8d01324&oe=6019B783\"\n",
       "}, <AdImage> {\n",
       "    \"id\": \"451425182336848:d8db6527eb79e310618ca049848fde55\",\n",
       "    \"url\": \"https://scontent.fmxp5-1.fna.fbcdn.net/v/t45.1600-4/133580569_23846551491260550_5024822770604307264_n.jpg?_nc_cat=110&ccb=2&_nc_sid=2aac32&_nc_ohc=fUnPDkfCYG8AX_IgysM&_nc_ht=scontent.fmxp5-1.fna&oh=fd7b1b8ad7b1cbae615ce067cc287520&oe=60169CC5\"\n",
       "}, <AdImage> {\n",
       "    \"id\": \"451425182336848:54415132873809708c08a5d439c94613\",\n",
       "    \"url\": \"https://scontent.fmxp5-1.fna.fbcdn.net/v/t45.1600-4/133445380_23846551490940550_5055671524821240586_n.jpg?_nc_cat=106&ccb=2&_nc_sid=2aac32&_nc_ohc=13qIVqUgXqkAX_XoMrp&_nc_ht=scontent.fmxp5-1.fna&oh=0bebd4286ad6bad36c08496d6d384ba1&oe=6016919B\"\n",
       "}, <AdImage> {\n",
       "    \"id\": \"451425182336848:141a02b1855f3e72a546c63f39858b17\",\n",
       "    \"url\": \"https://scontent.fmxp5-1.fna.fbcdn.net/v/t45.1600-4/134815387_23846551490580550_5531886236447118672_n.jpg?_nc_cat=104&ccb=2&_nc_sid=2aac32&_nc_ohc=oarmA7-aI4sAX9azO97&_nc_oc=AQmfV3foUfJq67aAa0poVA86-yYHdz7eUSwuel9xYeOoBsDODhk8EgR3rGnCvZAhyBA&_nc_ht=scontent.fmxp5-1.fna&oh=5204882940bfbead9d43711e6044a80c&oe=6018114F\"\n",
       "}, <AdImage> {\n",
       "    \"id\": \"451425182336848:f995ae1cafa39e9cede4fad99e1ae64b\",\n",
       "    \"url\": \"https://scontent.fmxp5-1.fna.fbcdn.net/v/t45.1600-4/133223054_23846551490470550_3935758477788711015_n.jpg?_nc_cat=103&ccb=2&_nc_sid=2aac32&_nc_ohc=cX4A-q1HVjEAX8zGq__&_nc_ht=scontent.fmxp5-1.fna&oh=a7d8d82c228eee69b470c7a3aefb9f57&oe=60169710\"\n",
       "}, <AdImage> {\n",
       "    \"id\": \"451425182336848:235acc83bb91a66ad36de8fe3a005cfe\",\n",
       "    \"url\": \"https://scontent.fmxp5-1.fna.fbcdn.net/v/t45.1600-4/133732642_23846551490380550_7303311991093910137_n.jpg?_nc_cat=105&ccb=2&_nc_sid=2aac32&_nc_ohc=iW9JONCBhV0AX-6Wa0Y&_nc_ht=scontent.fmxp5-1.fna&oh=93ea294d92c5e270892b93be91d4298a&oe=60185B94\"\n",
       "}, <AdImage> {\n",
       "    \"id\": \"451425182336848:93d2a2263ae24bd18e3f4099ed19cd1a\",\n",
       "    \"url\": \"https://scontent.fmxp5-1.fna.fbcdn.net/v/t45.1600-4/133488125_23846551489950550_4722877717855589351_n.jpg?_nc_cat=105&ccb=2&_nc_sid=2aac32&_nc_ohc=wdkL4vVeV6sAX9_gaJ3&_nc_ht=scontent.fmxp5-1.fna&oh=fec9b26a1ffa1a4ae12f9ad1f504941f&oe=6017B243\"\n",
       "}, <AdImage> {\n",
       "    \"id\": \"451425182336848:d044327d741825a96415be1e4d4f60d7\",\n",
       "    \"url\": \"https://scontent.fmxp5-1.fna.fbcdn.net/v/t45.1600-4/134468262_23846551473900550_5027896302533409746_n.jpg?_nc_cat=100&ccb=2&_nc_sid=2aac32&_nc_ohc=DXt7wnVE5ZcAX_NjqCU&_nc_ht=scontent.fmxp5-1.fna&oh=905dd5f85b693e9ceaab9677b845c2f9&oe=60190098\"\n",
       "}, <AdImage> {\n",
       "    \"id\": \"451425182336848:0c1776310373007dbed35eed8fa2ae94\",\n",
       "    \"url\": \"https://scontent.fmxp5-1.fna.fbcdn.net/v/t45.1600-4/106334459_23845050481000550_2992886303733280051_n.jpg?_nc_cat=105&ccb=2&_nc_sid=2aac32&_nc_aid=0&_nc_ohc=Z6rxisUrnT0AX8Gll0f&_nc_ht=scontent.fmxp5-1.fna&oh=4cc9658a9706db7d437b5ef18f70a985&oe=60171D52\"\n",
       "}, <AdImage> {\n",
       "    \"id\": \"451425182336848:d26f47a15db7749b1755f6d891152de8\",\n",
       "    \"url\": \"https://scontent.fmxp5-1.fna.fbcdn.net/v/t45.1600-4/85751580_23844257307270550_8367820388352131072_n.png?_nc_cat=109&ccb=2&_nc_sid=2aac32&_nc_ohc=npInooEtTXMAX86e9hm&_nc_ht=scontent.fmxp5-1.fna&oh=dedd531c89d169f9c2ba7acff1ab6c44&oe=6017D40E\"\n",
       "}, <AdImage> {\n",
       "    \"id\": \"451425182336848:dc9ac8a7fa7c10243f5f5359cf24193b\",\n",
       "    \"url\": \"https://scontent.fmxp5-1.fna.fbcdn.net/v/t45.1600-4/64679639_23843472685850550_6703385707768971264_n.jpg?_nc_cat=108&ccb=2&_nc_sid=2aac32&_nc_ohc=u8H5Ep77TKYAX-KNPO9&_nc_oc=AQmRpv1AbTWJyZGk6lvSb-YzS1xCQ85kPiRHMa4f8uehi7b6O5qoXjiCVlV9O8WznCQ&_nc_ht=scontent.fmxp5-1.fna&oh=f09f176513cd74495aaa444fa18fc66e&oe=60161FCB\"\n",
       "}, <AdImage> {\n",
       "    \"id\": \"451425182336848:8eb48e80299aa574718edd418c181e83\",\n",
       "    \"url\": \"https://scontent.fmxp5-1.fna.fbcdn.net/v/t45.1600-4/61823196_23843426361860550_2647022957666238464_n.png?_nc_cat=109&ccb=2&_nc_sid=2aac32&_nc_ohc=8ibm8dyZzHcAX-oaWSZ&_nc_ht=scontent.fmxp5-1.fna&oh=ee9173a9ea82e712f07dab8b1cd66feb&oe=6017F2AA\"\n",
       "}]"
      ]
     },
     "execution_count": 12,
     "metadata": {},
     "output_type": "execute_result"
    }
   ],
   "source": [
    "AdAccount(ad_account_id).get_ad_images(fields = ['url'], params=params)"
   ]
  },
  {
   "cell_type": "code",
   "execution_count": 43,
   "metadata": {},
   "outputs": [
    {
     "data": {
      "text/plain": [
       "'91caffc376f3cfc0835487412ec1f9b8'"
      ]
     },
     "execution_count": 43,
     "metadata": {},
     "output_type": "execute_result"
    }
   ],
   "source": [
    "image_hash"
   ]
  },
  {
   "cell_type": "code",
   "execution_count": 30,
   "metadata": {},
   "outputs": [],
   "source": [
    "page_id = 143049352434767"
   ]
  },
  {
   "cell_type": "code",
   "execution_count": 32,
   "metadata": {},
   "outputs": [
    {
     "data": {
      "text/plain": [
       "'https:/facebook.com/143049352434767'"
      ]
     },
     "execution_count": 32,
     "metadata": {},
     "output_type": "execute_result"
    }
   ],
   "source": [
    "'https:/facebook.com/{}'.format(page_id)"
   ]
  },
  {
   "cell_type": "code",
   "execution_count": 37,
   "metadata": {},
   "outputs": [
    {
     "data": {
      "text/plain": [
       "'https:/facebook.com/143049352434767'"
      ]
     },
     "execution_count": 37,
     "metadata": {},
     "output_type": "execute_result"
    }
   ],
   "source": [
    "import os\n",
    "\n",
    "os.path.join(\"https:/facebook.com/\", str(page_id))"
   ]
  },
  {
   "cell_type": "code",
   "execution_count": 52,
   "metadata": {},
   "outputs": [
    {
     "data": {
      "text/plain": [
       "<AdCreative> {\n",
       "    \"id\": \"23846554865110550\"\n",
       "}"
      ]
     },
     "execution_count": 52,
     "metadata": {},
     "output_type": "execute_result"
    }
   ],
   "source": [
    "# Make Creativity\n",
    "\n",
    "path = os.path.join(\"https:/facebook.com/\", str(page_id))\n",
    "\n",
    "fields = [\n",
    "]\n",
    "params = {\n",
    "  'name': 'Sample Creative',\n",
    "  'object_story_spec': {'page_id':143049352434767,\n",
    "                        'link_data':{'image_hash':image_hash,\n",
    "                                     'link': 'https://www.facebook.com/143049352434767/',\n",
    "                                     'message':'try it out'}},\n",
    "}\n",
    "AdAccount(id).create_ad_creative(\n",
    "  fields=fields,\n",
    "  params=params,\n",
    ")"
   ]
  },
  {
   "cell_type": "code",
   "execution_count": 54,
   "metadata": {},
   "outputs": [
    {
     "data": {
      "text/plain": [
       "<Ad> {\n",
       "    \"id\": \"23846554870440550\"\n",
       "}"
      ]
     },
     "execution_count": 54,
     "metadata": {},
     "output_type": "execute_result"
    }
   ],
   "source": [
    "# Add Creative\n",
    "\n",
    "add_set_id = '23846554774560550'\n",
    "add_creative_id = '23846554865110550'\n",
    "\n",
    "fields = []\n",
    "params = {  \n",
    "    'name': 'Sample Add',  \n",
    "    'adset_id': add_set_id,  \n",
    "        'creative': {'creative_id': add_creative_id},\n",
    "    'status': 'ACTIVE'}\n",
    "\n",
    "AdAccount(ad_account_id).create_ad(fields=fields, params=params)"
   ]
  },
  {
   "cell_type": "markdown",
   "metadata": {},
   "source": [
    "# Test"
   ]
  },
  {
   "cell_type": "code",
   "execution_count": 77,
   "metadata": {},
   "outputs": [
    {
     "name": "stdout",
     "output_type": "stream",
     "text": [
      "[<Campaign> {\n",
      "    \"id\": \"23846553896420550\"\n",
      "}, <Campaign> {\n",
      "    \"id\": \"23846551418620550\"\n",
      "}]\n"
     ]
    }
   ],
   "source": [
    "from facebook_business.api import FacebookAdsApi\n",
    "from facebook_business.adobjects.adaccount import AdAccount\n",
    "\n",
    "my_app_id = '4057385084291928'\n",
    "my_app_secret = '7530b28afca06e1284f8aa39168b67bf'\n",
    "my_access_token = access_token\n",
    "FacebookAdsApi.init(my_app_id, my_app_secret, my_access_token)\n",
    "my_account = AdAccount('act_451425182336848')\n",
    "campaigns = my_account.get_campaigns()\n",
    "print(campaigns)"
   ]
  },
  {
   "cell_type": "code",
   "execution_count": 86,
   "metadata": {},
   "outputs": [
    {
     "data": {
      "text/plain": [
       "[<AdSet> {\n",
       "    \"id\": \"23846553896430550\"\n",
       "}, <AdSet> {\n",
       "    \"id\": \"23846551418710550\"\n",
       "}]"
      ]
     },
     "execution_count": 86,
     "metadata": {},
     "output_type": "execute_result"
    }
   ],
   "source": [
    "my_account.get_ad_sets()"
   ]
  },
  {
   "cell_type": "code",
   "execution_count": 97,
   "metadata": {},
   "outputs": [
    {
     "data": {
      "text/plain": [
       "[<AdCreative> {\n",
       "    \"id\": \"23846554865110550\"\n",
       "}, <AdCreative> {\n",
       "    \"id\": \"23846554864700550\"\n",
       "}, <AdCreative> {\n",
       "    \"id\": \"23846553231810550\"\n",
       "}, <AdCreative> {\n",
       "    \"id\": \"23846551499010550\"\n",
       "}, <AdCreative> {\n",
       "    \"id\": \"23843602835540550\"\n",
       "}, <AdCreative> {\n",
       "    \"id\": \"23843472691550550\"\n",
       "}, <AdCreative> {\n",
       "    \"id\": \"23843426365980550\"\n",
       "}]"
      ]
     },
     "execution_count": 97,
     "metadata": {},
     "output_type": "execute_result"
    }
   ],
   "source": [
    "my_account.get_ad_creatives()"
   ]
  },
  {
   "cell_type": "code",
   "execution_count": 85,
   "metadata": {},
   "outputs": [
    {
     "data": {
      "text/plain": [
       "[<AdsInsights> {\n",
       "    \"account_id\": \"451425182336848\",\n",
       "    \"date_start\": \"2020-12-04\",\n",
       "    \"date_stop\": \"2021-01-02\",\n",
       "    \"impressions\": \"14882\",\n",
       "    \"spend\": \"4.3\"\n",
       "}]"
      ]
     },
     "execution_count": 85,
     "metadata": {},
     "output_type": "execute_result"
    }
   ],
   "source": [
    "params = {'default_summary': True,\n",
    "         'export_columns': ['impression', 'spend', 'copertura']\n",
    "         }\n",
    "\n",
    "my_account.get_insights(params = params)"
   ]
  },
  {
   "cell_type": "code",
   "execution_count": 74,
   "metadata": {},
   "outputs": [
    {
     "name": "stdout",
     "output_type": "stream",
     "text": [
      "[<TargetingSearch> {\n",
      "    \"audience_size\": 455910850,\n",
      "    \"id\": \"6003481146564\",\n",
      "    \"name\": \"Consegna a domicilio\",\n",
      "    \"path\": [\n",
      "        \"Interessi\",\n",
      "        \"Interessi aggiuntivi\",\n",
      "        \"Consegna a domicilio\"\n",
      "    ],\n",
      "    \"topic\": \"Business and industry\"\n",
      "}]\n"
     ]
    }
   ],
   "source": [
    "from facebook_business.adobjects.targetingsearch import TargetingSearch\n",
    "params = {\n",
    "    'q': 'consegna a domicilio',\n",
    "    'type': 'adinterest',\n",
    "}\n",
    "\n",
    "resp = TargetingSearch.search(params=params)\n",
    "print(resp)"
   ]
  },
  {
   "cell_type": "code",
   "execution_count": 96,
   "metadata": {},
   "outputs": [
    {
     "data": {
      "text/plain": [
       "[<AdsInsights> {\n",
       "    \"cpc\": \"0.016161\",\n",
       "    \"date_start\": \"2020-12-04\",\n",
       "    \"date_stop\": \"2021-01-02\",\n",
       "    \"impressions\": \"5697\"\n",
       "}]"
      ]
     },
     "execution_count": 96,
     "metadata": {},
     "output_type": "execute_result"
    }
   ],
   "source": [
    "from facebook_business.adobjects.adset import AdSet\n",
    "from facebook_business.adobjects.adsinsights import AdsInsights\n",
    "from facebook_business.api import FacebookAdsApi\n",
    "\n",
    "\n",
    "FacebookAdsApi.init(access_token=access_token)\n",
    "\n",
    "fields = ['cpc', 'impressions', 'ad_name'\n",
    "\n",
    "]\n",
    "params = {\n",
    "  'breakdown': 'publisher_platform',\n",
    "}\n",
    "\n",
    "AdSet('23846553896430550').get_insights(\n",
    "  fields=fields,\n",
    "  params=params,\n",
    ")"
   ]
  },
  {
   "cell_type": "code",
   "execution_count": 101,
   "metadata": {},
   "outputs": [
    {
     "name": "stderr",
     "output_type": "stream",
     "text": [
      "/Applications/anaconda3/lib/python3.6/site-packages/facebook_business/utils/api_utils.py:30: UserWarning: creative_insights does not allow field creative_compass_scores\n",
      "  warnings.warn(message)\n"
     ]
    },
    {
     "ename": "FacebookRequestError",
     "evalue": "\n\n  Message: Call was not successful\n  Method:  GET\n  Path:    https://graph.facebook.com/v9.0/23846554865110550/creative_insights\n  Params:  {'fields': 'creative_compass_scores', 'summary': 'true'}\n\n  Status:  400\n  Response:\n    {\n      \"error\": {\n        \"message\": \"Invalid OAuth access token.\",\n        \"type\": \"OAuthException\",\n        \"code\": 190,\n        \"fbtrace_id\": \"AmJd7jYRl9p8ymvAY4cxycN\"\n      }\n    }\n",
     "output_type": "error",
     "traceback": [
      "\u001b[0;31m---------------------------------------------------------------------------\u001b[0m",
      "\u001b[0;31mFacebookRequestError\u001b[0m                      Traceback (most recent call last)",
      "\u001b[0;32m<ipython-input-101-d8ed1d8ca192>\u001b[0m in \u001b[0;36m<module>\u001b[0;34m()\u001b[0m\n\u001b[1;32m     17\u001b[0m AdCreative(23846554865110550).get_creative_insights(\n\u001b[1;32m     18\u001b[0m   \u001b[0mfields\u001b[0m\u001b[0;34m=\u001b[0m\u001b[0mfields\u001b[0m\u001b[0;34m,\u001b[0m\u001b[0;34m\u001b[0m\u001b[0m\n\u001b[0;32m---> 19\u001b[0;31m   \u001b[0mparams\u001b[0m\u001b[0;34m=\u001b[0m\u001b[0mparams\u001b[0m\u001b[0;34m,\u001b[0m\u001b[0;34m\u001b[0m\u001b[0m\n\u001b[0m\u001b[1;32m     20\u001b[0m )\n",
      "\u001b[0;32m/Applications/anaconda3/lib/python3.6/site-packages/facebook_business/adobjects/adcreative.py\u001b[0m in \u001b[0;36mget_creative_insights\u001b[0;34m(self, fields, params, batch, success, failure, pending)\u001b[0m\n\u001b[1;32m    396\u001b[0m         \u001b[0;32melse\u001b[0m\u001b[0;34m:\u001b[0m\u001b[0;34m\u001b[0m\u001b[0m\n\u001b[1;32m    397\u001b[0m             \u001b[0mself\u001b[0m\u001b[0;34m.\u001b[0m\u001b[0massure_call\u001b[0m\u001b[0;34m(\u001b[0m\u001b[0;34m)\u001b[0m\u001b[0;34m\u001b[0m\u001b[0m\n\u001b[0;32m--> 398\u001b[0;31m             \u001b[0;32mreturn\u001b[0m \u001b[0mrequest\u001b[0m\u001b[0;34m.\u001b[0m\u001b[0mexecute\u001b[0m\u001b[0;34m(\u001b[0m\u001b[0;34m)\u001b[0m\u001b[0;34m\u001b[0m\u001b[0m\n\u001b[0m\u001b[1;32m    399\u001b[0m \u001b[0;34m\u001b[0m\u001b[0m\n\u001b[1;32m    400\u001b[0m     \u001b[0;32mdef\u001b[0m \u001b[0mget_previews\u001b[0m\u001b[0;34m(\u001b[0m\u001b[0mself\u001b[0m\u001b[0;34m,\u001b[0m \u001b[0mfields\u001b[0m\u001b[0;34m=\u001b[0m\u001b[0;32mNone\u001b[0m\u001b[0;34m,\u001b[0m \u001b[0mparams\u001b[0m\u001b[0;34m=\u001b[0m\u001b[0;32mNone\u001b[0m\u001b[0;34m,\u001b[0m \u001b[0mbatch\u001b[0m\u001b[0;34m=\u001b[0m\u001b[0;32mNone\u001b[0m\u001b[0;34m,\u001b[0m \u001b[0msuccess\u001b[0m\u001b[0;34m=\u001b[0m\u001b[0;32mNone\u001b[0m\u001b[0;34m,\u001b[0m \u001b[0mfailure\u001b[0m\u001b[0;34m=\u001b[0m\u001b[0;32mNone\u001b[0m\u001b[0;34m,\u001b[0m \u001b[0mpending\u001b[0m\u001b[0;34m=\u001b[0m\u001b[0;32mFalse\u001b[0m\u001b[0;34m)\u001b[0m\u001b[0;34m:\u001b[0m\u001b[0;34m\u001b[0m\u001b[0m\n",
      "\u001b[0;32m/Applications/anaconda3/lib/python3.6/site-packages/facebook_business/api.py\u001b[0m in \u001b[0;36mexecute\u001b[0;34m(self)\u001b[0m\n\u001b[1;32m    675\u001b[0m                 \u001b[0mendpoint\u001b[0m\u001b[0;34m=\u001b[0m\u001b[0mself\u001b[0m\u001b[0;34m.\u001b[0m\u001b[0m_endpoint\u001b[0m\u001b[0;34m,\u001b[0m\u001b[0;34m\u001b[0m\u001b[0m\n\u001b[1;32m    676\u001b[0m             )\n\u001b[0;32m--> 677\u001b[0;31m             \u001b[0mcursor\u001b[0m\u001b[0;34m.\u001b[0m\u001b[0mload_next_page\u001b[0m\u001b[0;34m(\u001b[0m\u001b[0;34m)\u001b[0m\u001b[0;34m\u001b[0m\u001b[0m\n\u001b[0m\u001b[1;32m    678\u001b[0m             \u001b[0;32mreturn\u001b[0m \u001b[0mcursor\u001b[0m\u001b[0;34m\u001b[0m\u001b[0m\n\u001b[1;32m    679\u001b[0m         \u001b[0;32mif\u001b[0m \u001b[0mself\u001b[0m\u001b[0;34m.\u001b[0m\u001b[0m_fields\u001b[0m\u001b[0;34m:\u001b[0m\u001b[0;34m\u001b[0m\u001b[0m\n",
      "\u001b[0;32m/Applications/anaconda3/lib/python3.6/site-packages/facebook_business/api.py\u001b[0m in \u001b[0;36mload_next_page\u001b[0;34m(self)\u001b[0m\n\u001b[1;32m    842\u001b[0m             \u001b[0;34m'GET'\u001b[0m\u001b[0;34m,\u001b[0m\u001b[0;34m\u001b[0m\u001b[0m\n\u001b[1;32m    843\u001b[0m             \u001b[0mself\u001b[0m\u001b[0;34m.\u001b[0m\u001b[0m_path\u001b[0m\u001b[0;34m,\u001b[0m\u001b[0;34m\u001b[0m\u001b[0m\n\u001b[0;32m--> 844\u001b[0;31m             \u001b[0mparams\u001b[0m\u001b[0;34m=\u001b[0m\u001b[0mself\u001b[0m\u001b[0;34m.\u001b[0m\u001b[0mparams\u001b[0m\u001b[0;34m,\u001b[0m\u001b[0;34m\u001b[0m\u001b[0m\n\u001b[0m\u001b[1;32m    845\u001b[0m         )\n\u001b[1;32m    846\u001b[0m         \u001b[0mresponse\u001b[0m \u001b[0;34m=\u001b[0m \u001b[0mresponse_obj\u001b[0m\u001b[0;34m.\u001b[0m\u001b[0mjson\u001b[0m\u001b[0;34m(\u001b[0m\u001b[0;34m)\u001b[0m\u001b[0;34m\u001b[0m\u001b[0m\n",
      "\u001b[0;32m/Applications/anaconda3/lib/python3.6/site-packages/facebook_business/api.py\u001b[0m in \u001b[0;36mcall\u001b[0;34m(self, method, path, params, headers, files, url_override, api_version)\u001b[0m\n\u001b[1;32m    348\u001b[0m \u001b[0;34m\u001b[0m\u001b[0m\n\u001b[1;32m    349\u001b[0m         \u001b[0;32mif\u001b[0m \u001b[0mfb_response\u001b[0m\u001b[0;34m.\u001b[0m\u001b[0mis_failure\u001b[0m\u001b[0;34m(\u001b[0m\u001b[0;34m)\u001b[0m\u001b[0;34m:\u001b[0m\u001b[0;34m\u001b[0m\u001b[0m\n\u001b[0;32m--> 350\u001b[0;31m             \u001b[0;32mraise\u001b[0m \u001b[0mfb_response\u001b[0m\u001b[0;34m.\u001b[0m\u001b[0merror\u001b[0m\u001b[0;34m(\u001b[0m\u001b[0;34m)\u001b[0m\u001b[0;34m\u001b[0m\u001b[0m\n\u001b[0m\u001b[1;32m    351\u001b[0m \u001b[0;34m\u001b[0m\u001b[0m\n\u001b[1;32m    352\u001b[0m         \u001b[0mself\u001b[0m\u001b[0;34m.\u001b[0m\u001b[0m_num_requests_succeeded\u001b[0m \u001b[0;34m+=\u001b[0m \u001b[0;36m1\u001b[0m\u001b[0;34m\u001b[0m\u001b[0m\n",
      "\u001b[0;31mFacebookRequestError\u001b[0m: \n\n  Message: Call was not successful\n  Method:  GET\n  Path:    https://graph.facebook.com/v9.0/23846554865110550/creative_insights\n  Params:  {'fields': 'creative_compass_scores', 'summary': 'true'}\n\n  Status:  400\n  Response:\n    {\n      \"error\": {\n        \"message\": \"Invalid OAuth access token.\",\n        \"type\": \"OAuthException\",\n        \"code\": 190,\n        \"fbtrace_id\": \"AmJd7jYRl9p8ymvAY4cxycN\"\n      }\n    }\n"
     ]
    }
   ],
   "source": [
    "from facebook_business.adobjects.adcreative import AdCreative\n",
    "from facebook_business.adobjects.adcreativeinsights import AdCreativeInsights\n",
    "from facebook_business.api import FacebookAdsApi\n",
    "\n",
    "access_token = '<ACCESS_TOKEN>'\n",
    "app_secret = '<APP_SECRET>'\n",
    "app_id = '<APP_ID>'\n",
    "id = '<CREATIVE_ID>'\n",
    "FacebookAdsApi.init(access_token=access_token)\n",
    "\n",
    "fields = [\n",
    "  'creative_compass_scores',\n",
    "]\n",
    "params = {\n",
    "}\n",
    "\n",
    "AdCreative(23846554865110550).get_creative_insights(\n",
    "  fields=fields,\n",
    "  params=params,\n",
    ")"
   ]
  },
  {
   "cell_type": "code",
   "execution_count": null,
   "metadata": {},
   "outputs": [],
   "source": []
  }
 ],
 "metadata": {
  "kernelspec": {
   "display_name": "Python 3",
   "language": "python",
   "name": "python3"
  },
  "language_info": {
   "codemirror_mode": {
    "name": "ipython",
    "version": 3
   },
   "file_extension": ".py",
   "mimetype": "text/x-python",
   "name": "python",
   "nbconvert_exporter": "python",
   "pygments_lexer": "ipython3",
   "version": "3.5.1"
  }
 },
 "nbformat": 4,
 "nbformat_minor": 2
}
